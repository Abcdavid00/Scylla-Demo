{
 "cells": [
  {
   "cell_type": "code",
   "execution_count": null,
   "metadata": {},
   "outputs": [],
   "source": [
    "%pip install cassandra-driver"
   ]
  },
  {
   "cell_type": "code",
   "execution_count": null,
   "metadata": {},
   "outputs": [],
   "source": [
    "from cassandra.cluster import Cluster\n",
    "from cassandra import ConsistencyLevel\n",
    "from cassandra.cqlengine import connection"
   ]
  },
  {
   "cell_type": "code",
   "execution_count": null,
   "metadata": {},
   "outputs": [],
   "source": [
    "cluster = Cluster(contact_points=[\"localhost\"])\n",
    "session = cluster.connect(keyspace=\"catalog\")\n",
    "session.default_consistency_level = ConsistencyLevel.QUORUM\n",
    "  \n",
    "def show_user():\n",
    "  print(\"Data that we have in the catalog\".center(50, \"=\"))\n",
    "  result = session.execute(query=\"SELECT * FROM user\")\n",
    "  for row in result:\n",
    "      print(row.first_name, row.last_name)\n",
    "  \n",
    "def add_user(username, first_name, last_name):\n",
    "  print(f\"\\nAdding {first_name} {last_name}...\")\n",
    "  session.execute(f\"INSERT INTO user (username, first_name, last_name) VALUES ('{username}', '{first_name}', '{last_name}')\")\n",
    "  print(\"Added.\\n\")\n",
    "  \n",
    "def delete_user(username):\n",
    "  print(f\"\\nDeleting {username}...\")\n",
    "  session.execute(f\"DELETE FROM user WHERE username = '{username}'\")\n",
    "  print(\"Deleted.\\n\")\n",
    "  \n",
    "def clear_user():\n",
    "  print(\"\\nClearing all users...\")\n",
    "  session.execute(\"TRUNCATE user\")\n",
    "  print(\"Cleared.\\n\")"
   ]
  },
  {
   "cell_type": "code",
   "execution_count": null,
   "metadata": {},
   "outputs": [],
   "source": [
    "clear_user()\n",
    "users = [\n",
    "  (\"jdoe\", \"John\", \"Doe\"),\n",
    "  (\"bsmith\", \"Bob\", \"Smith\"),\n",
    "  (\"rwilliams\", \"Ricky\", \"Williams\"),\n",
    "  (\"jwilliams\", \"John\", \"Williams\"),\n",
    "  (\"jwilliams\", \"Jane\", \"Williams\"),\n",
    "]\n",
    "for user in users:\n",
    "  add_user(*user)\n",
    "show_user()"
   ]
  },
  {
   "cell_type": "code",
   "execution_count": null,
   "metadata": {},
   "outputs": [],
   "source": [
    "def send_message(sender, recipient, message):\n",
    "  print(f\"\\nSending message from {sender} to {recipient}...\")\n",
    "  session.execute(f\"INSERT INTO chat_message (sender, recipient, timestamp, message) VALUES ('{sender}', '{recipient}', toTimestamp(now()), '{message}')\")\n",
    "  print(\"Sent.\\n\")\n",
    "  \n",
    "def show_message_from(sender):\n",
    "  print(f\"Messages from {sender}\".center(50, \"=\"))\n",
    "  result = session.execute(query=f\"SELECT * FROM chat_message WHERE sender = '{sender}'\")\n",
    "  for row in result:\n",
    "      print(row.recipient, row.message)"
   ]
  },
  {
   "cell_type": "code",
   "execution_count": null,
   "metadata": {},
   "outputs": [],
   "source": [
    "send_message(\"jdoe\", \"bsmith\", \"Hello, Bob!\")\n",
    "send_message(\"bsmith\", \"jdoe\", \"Hi, John!\")\n",
    "send_message(\"jdoe\", \"rwilliams\", \"Hello, Ricky!\")\n",
    "send_message(\"rwilliams\", \"jdoe\", \"Hi, John!\")"
   ]
  },
  {
   "cell_type": "code",
   "execution_count": null,
   "metadata": {},
   "outputs": [],
   "source": [
    "show_message_from(\"jdoe\")"
   ]
  }
 ],
 "metadata": {
  "kernelspec": {
   "display_name": "venv",
   "language": "python",
   "name": "python3"
  },
  "language_info": {
   "codemirror_mode": {
    "name": "ipython",
    "version": 3
   },
   "file_extension": ".py",
   "mimetype": "text/x-python",
   "name": "python",
   "nbconvert_exporter": "python",
   "pygments_lexer": "ipython3",
   "version": "3.12.2"
  }
 },
 "nbformat": 4,
 "nbformat_minor": 2
}
